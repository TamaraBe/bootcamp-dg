{
  "cells": [
    {
      "cell_type": "markdown",
      "metadata": {
        "id": "view-in-github",
        "colab_type": "text"
      },
      "source": [
        "<a href=\"https://colab.research.google.com/github/TamaraBe/bootcamp-dg/blob/main/Analise_exploratoria.ipynb\" target=\"_parent\"><img src=\"https://colab.research.google.com/assets/colab-badge.svg\" alt=\"Open In Colab\"/></a>"
      ]
    },
    {
      "cell_type": "markdown",
      "id": "6dca99a7-1790-47f5-8b37-71cf31b04d41",
      "metadata": {
        "id": "6dca99a7-1790-47f5-8b37-71cf31b04d41"
      },
      "source": [
        "# Contexto"
      ]
    },
    {
      "cell_type": "markdown",
      "id": "d4c97a7c-5957-49ad-bffe-e9a7f06070c4",
      "metadata": {
        "id": "d4c97a7c-5957-49ad-bffe-e9a7f06070c4"
      },
      "source": [
        "A EducaTech é uma startup de educação digital que oferece cursos online na área de negócios.\n",
        "Fundada há seis meses, a empresa tem como missão democratizar o acesso ao conhecimento de qualidade por meio de plataformas acessíveis e interativas.\n",
        "Apesar do pouco tempo de operação, a empresa já alcançou todos os estados do Brasil, com centenas de alunos ativos que representam a totalidade da base\n",
        "de usuários até o momento.\n",
        "A equipe multidisciplinar composta por profissionais de produto, dados e pedagogia está empenhada em compreender como o engajamento dos alunos influencia\n",
        "o desempenho final nos cursos, com o objetivo de melhorar a experiência educacional e aumentar a taxa de conclusão dos cursos.\n",
        "\n",
        "Para essa base de dados, a empresa utilizou os dados coletados diretamente da sua plataforma de ensino.\n",
        "Cada vez que um aluno acessa o sistema, suas interações são registradas em tempo real e elas foram coletadas no dia 31 de maio de 2025.\n",
        "Além disso, algumas informações do cadastro do cliente foram acrescentadas para analisar possíveis perfis."
      ]
    },
    {
      "cell_type": "markdown",
      "id": "e281e6ef-da57-45c6-8226-c6a1afa908d1",
      "metadata": {
        "id": "e281e6ef-da57-45c6-8226-c6a1afa908d1"
      },
      "source": [
        "# Objetivo:"
      ]
    },
    {
      "cell_type": "markdown",
      "id": "6d9bca82-7767-456a-aec2-83a8728f86bb",
      "metadata": {
        "id": "6d9bca82-7767-456a-aec2-83a8728f86bb"
      },
      "source": [
        " - Analise dataset (estrutura)\n",
        " - Análise Univariada e Bivariada"
      ]
    },
    {
      "cell_type": "markdown",
      "id": "183c5668-e46a-487b-b302-a71ed2017f5b",
      "metadata": {
        "id": "183c5668-e46a-487b-b302-a71ed2017f5b"
      },
      "source": [
        "# 1. Importar bibliotecas"
      ]
    },
    {
      "cell_type": "code",
      "execution_count": null,
      "id": "93e346c7-dd6d-4c72-a178-e9564ca6cfc1",
      "metadata": {
        "id": "93e346c7-dd6d-4c72-a178-e9564ca6cfc1"
      },
      "outputs": [],
      "source": [
        "import pandas as pd\n",
        "import numpy as np\n",
        "\n",
        "import seaborn as sns\n",
        "import matplotlib.pyplot as plt\n",
        "\n",
        "plt.style.use('ggplot')"
      ]
    },
    {
      "cell_type": "markdown",
      "id": "59d89a2b-f372-409f-a026-621e81607177",
      "metadata": {
        "id": "59d89a2b-f372-409f-a026-621e81607177"
      },
      "source": [
        "# 2. Carregando Dataset"
      ]
    },
    {
      "cell_type": "code",
      "execution_count": null,
      "id": "3c9993a6-989e-4987-94c1-398d5172c553",
      "metadata": {
        "id": "3c9993a6-989e-4987-94c1-398d5172c553"
      },
      "outputs": [],
      "source": [
        "alunos = pd.read_excel('C:\\\\Bootcamp_DG\\\\Datasets\\\\tabela_educatech.xlsx')"
      ]
    },
    {
      "cell_type": "markdown",
      "id": "101c88bb-dd98-40d4-9b57-fce66eb9606e",
      "metadata": {
        "id": "101c88bb-dd98-40d4-9b57-fce66eb9606e"
      },
      "source": [
        "**- Visualizar as primeiras linhas e verificar informações sobre a estrutura do dataset**   \n",
        "*Transformei os nomes das colunas em letra minuscula*"
      ]
    },
    {
      "cell_type": "code",
      "execution_count": null,
      "id": "fccce931-b54b-4b64-82f6-90e2737045b6",
      "metadata": {
        "scrolled": true,
        "id": "fccce931-b54b-4b64-82f6-90e2737045b6",
        "outputId": "72233b58-75d0-4240-a739-0358a09b71dc"
      },
      "outputs": [
        {
          "data": {
            "text/html": [
              "<div>\n",
              "<style scoped>\n",
              "    .dataframe tbody tr th:only-of-type {\n",
              "        vertical-align: middle;\n",
              "    }\n",
              "\n",
              "    .dataframe tbody tr th {\n",
              "        vertical-align: top;\n",
              "    }\n",
              "\n",
              "    .dataframe thead th {\n",
              "        text-align: right;\n",
              "    }\n",
              "</style>\n",
              "<table border=\"1\" class=\"dataframe\">\n",
              "  <thead>\n",
              "    <tr style=\"text-align: right;\">\n",
              "      <th></th>\n",
              "      <th>index</th>\n",
              "      <th>ID_Aluno</th>\n",
              "      <th>Ultimo_acesso</th>\n",
              "      <th>Ano_mes_ultimo_acesso</th>\n",
              "      <th>Ano_ultimo_acesso</th>\n",
              "      <th>Tempo_Sessao_Minutos</th>\n",
              "      <th>Numero_Modulos_Completos</th>\n",
              "      <th>Nota_Final_Curso</th>\n",
              "      <th>Tipo_Plano</th>\n",
              "      <th>Regiao_Aluno</th>\n",
              "      <th>Nivel_Interesse_Conteudo</th>\n",
              "      <th>Frequencia_Acessos_Semanal</th>\n",
              "      <th>Dispositivo_Acesso</th>\n",
              "    </tr>\n",
              "  </thead>\n",
              "  <tbody>\n",
              "    <tr>\n",
              "      <th>0</th>\n",
              "      <td>0</td>\n",
              "      <td>A0001</td>\n",
              "      <td>2025-04-06</td>\n",
              "      <td>2025/04</td>\n",
              "      <td>2025</td>\n",
              "      <td>42.31</td>\n",
              "      <td>3</td>\n",
              "      <td>96.0</td>\n",
              "      <td>Premium</td>\n",
              "      <td>Sudeste</td>\n",
              "      <td>1</td>\n",
              "      <td>7</td>\n",
              "      <td>Desktop</td>\n",
              "    </tr>\n",
              "    <tr>\n",
              "      <th>1</th>\n",
              "      <td>1</td>\n",
              "      <td>A0002</td>\n",
              "      <td>2025-02-28</td>\n",
              "      <td>2025/02</td>\n",
              "      <td>2025</td>\n",
              "      <td>50.01</td>\n",
              "      <td>8</td>\n",
              "      <td>76.1</td>\n",
              "      <td>Básico</td>\n",
              "      <td>Norte</td>\n",
              "      <td>5</td>\n",
              "      <td>7</td>\n",
              "      <td>Mobile</td>\n",
              "    </tr>\n",
              "    <tr>\n",
              "      <th>2</th>\n",
              "      <td>2</td>\n",
              "      <td>A0003</td>\n",
              "      <td>2025-02-28</td>\n",
              "      <td>2025/02</td>\n",
              "      <td>2025</td>\n",
              "      <td>35.22</td>\n",
              "      <td>7</td>\n",
              "      <td>40.9</td>\n",
              "      <td>Básico</td>\n",
              "      <td>Nordeste</td>\n",
              "      <td>4</td>\n",
              "      <td>3</td>\n",
              "      <td>Desktop</td>\n",
              "    </tr>\n",
              "    <tr>\n",
              "      <th>3</th>\n",
              "      <td>3</td>\n",
              "      <td>A0004</td>\n",
              "      <td>2025-02-17</td>\n",
              "      <td>2025/02</td>\n",
              "      <td>2025</td>\n",
              "      <td>45.99</td>\n",
              "      <td>6</td>\n",
              "      <td>72.2</td>\n",
              "      <td>Gratuito</td>\n",
              "      <td>Nordeste</td>\n",
              "      <td>5</td>\n",
              "      <td>7</td>\n",
              "      <td>Mobile</td>\n",
              "    </tr>\n",
              "    <tr>\n",
              "      <th>4</th>\n",
              "      <td>4</td>\n",
              "      <td>A0005</td>\n",
              "      <td>2025-04-09</td>\n",
              "      <td>2025/04</td>\n",
              "      <td>2025</td>\n",
              "      <td>52.51</td>\n",
              "      <td>8</td>\n",
              "      <td>82.0</td>\n",
              "      <td>Premium</td>\n",
              "      <td>Sudeste</td>\n",
              "      <td>3</td>\n",
              "      <td>7</td>\n",
              "      <td>Desktop</td>\n",
              "    </tr>\n",
              "  </tbody>\n",
              "</table>\n",
              "</div>"
            ],
            "text/plain": [
              "   index ID_Aluno Ultimo_acesso Ano_mes_ultimo_acesso  Ano_ultimo_acesso  \\\n",
              "0      0    A0001    2025-04-06               2025/04               2025   \n",
              "1      1    A0002    2025-02-28               2025/02               2025   \n",
              "2      2    A0003    2025-02-28               2025/02               2025   \n",
              "3      3    A0004    2025-02-17               2025/02               2025   \n",
              "4      4    A0005    2025-04-09               2025/04               2025   \n",
              "\n",
              "   Tempo_Sessao_Minutos  Numero_Modulos_Completos  Nota_Final_Curso  \\\n",
              "0                 42.31                         3              96.0   \n",
              "1                 50.01                         8              76.1   \n",
              "2                 35.22                         7              40.9   \n",
              "3                 45.99                         6              72.2   \n",
              "4                 52.51                         8              82.0   \n",
              "\n",
              "  Tipo_Plano Regiao_Aluno  Nivel_Interesse_Conteudo  \\\n",
              "0    Premium      Sudeste                         1   \n",
              "1     Básico        Norte                         5   \n",
              "2     Básico     Nordeste                         4   \n",
              "3   Gratuito     Nordeste                         5   \n",
              "4    Premium      Sudeste                         3   \n",
              "\n",
              "   Frequencia_Acessos_Semanal Dispositivo_Acesso  \n",
              "0                           7            Desktop  \n",
              "1                           7             Mobile  \n",
              "2                           3            Desktop  \n",
              "3                           7             Mobile  \n",
              "4                           7            Desktop  "
            ]
          },
          "execution_count": 7,
          "metadata": {},
          "output_type": "execute_result"
        }
      ],
      "source": [
        "alunos.head()"
      ]
    },
    {
      "cell_type": "code",
      "execution_count": null,
      "id": "10bba14b-bb0e-41e0-88bd-3a8bd76f365d",
      "metadata": {
        "id": "10bba14b-bb0e-41e0-88bd-3a8bd76f365d"
      },
      "outputs": [],
      "source": [
        "alunos.columns = alunos.columns.str.lower()"
      ]
    },
    {
      "cell_type": "code",
      "execution_count": null,
      "id": "399f4b1f-c279-4b13-b34d-fc28ff086db7",
      "metadata": {
        "id": "399f4b1f-c279-4b13-b34d-fc28ff086db7",
        "outputId": "69a1d1de-ce06-459d-dea1-b481674e77e1"
      },
      "outputs": [
        {
          "name": "stdout",
          "output_type": "stream",
          "text": [
            "<class 'pandas.core.frame.DataFrame'>\n",
            "RangeIndex: 125 entries, 0 to 124\n",
            "Data columns (total 13 columns):\n",
            " #   Column                      Non-Null Count  Dtype         \n",
            "---  ------                      --------------  -----         \n",
            " 0   index                       125 non-null    int64         \n",
            " 1   id_aluno                    125 non-null    object        \n",
            " 2   ultimo_acesso               125 non-null    datetime64[ns]\n",
            " 3   ano_mes_ultimo_acesso       125 non-null    object        \n",
            " 4   ano_ultimo_acesso           125 non-null    int64         \n",
            " 5   tempo_sessao_minutos        125 non-null    float64       \n",
            " 6   numero_modulos_completos    125 non-null    int64         \n",
            " 7   nota_final_curso            125 non-null    float64       \n",
            " 8   tipo_plano                  125 non-null    object        \n",
            " 9   regiao_aluno                125 non-null    object        \n",
            " 10  nivel_interesse_conteudo    125 non-null    int64         \n",
            " 11  frequencia_acessos_semanal  125 non-null    int64         \n",
            " 12  dispositivo_acesso          125 non-null    object        \n",
            "dtypes: datetime64[ns](1), float64(2), int64(5), object(5)\n",
            "memory usage: 12.8+ KB\n"
          ]
        }
      ],
      "source": [
        "alunos.info()"
      ]
    },
    {
      "cell_type": "markdown",
      "id": "624232b9-afdf-4a73-be18-cd33466e140c",
      "metadata": {
        "id": "624232b9-afdf-4a73-be18-cd33466e140c"
      },
      "source": [
        "# 3. Análise Univariada"
      ]
    },
    {
      "cell_type": "markdown",
      "id": "bac78977-062b-4b7b-96cd-5b62b95861cd",
      "metadata": {
        "id": "bac78977-062b-4b7b-96cd-5b62b95861cd"
      },
      "source": [
        "- Variáveis quantitativas discretas"
      ]
    },
    {
      "cell_type": "code",
      "execution_count": null,
      "id": "4ac6b607-9444-4572-a7cc-e4e156dd3264",
      "metadata": {
        "id": "4ac6b607-9444-4572-a7cc-e4e156dd3264",
        "outputId": "26df5432-5401-4fc8-86c3-1616833ecf43"
      },
      "outputs": [
        {
          "data": {
            "image/png": "[encoded data removed]",
            "text/plain": [
              "<Figure size 640x480 with 1 Axes>"
            ]
          },
          "metadata": {},
          "output_type": "display_data"
        }
      ],
      "source": [
        "_ = plt.hist(alunos.numero_modulos_completos)\n",
        "_ = plt.title(\"Histograma de Módulos Completos\")"
      ]
    },
    {
      "cell_type": "code",
      "execution_count": null,
      "id": "d06afa31-7bc5-48d0-ae38-a60ca972662c",
      "metadata": {
        "id": "d06afa31-7bc5-48d0-ae38-a60ca972662c",
        "outputId": "67f92f54-ad9c-4668-8f5f-7d4bf1c029e5"
      },
      "outputs": [
        {
          "data": {
            "image/png": "[encoded data removed]",
            "text/plain": [
              "<Figure size 640x480 with 1 Axes>"
            ]
          },
          "metadata": {},
          "output_type": "display_data"
        }
      ],
      "source": [
        "frequencia = alunos.frequencia_acessos_semanal.value_counts()\n",
        "\n",
        "_ = plt.bar(frequencia.index, frequencia.values)\n",
        "_ = plt.title(\"Gráfico de Frequência de Acesso Semanal\")\n"
      ]
    },
    {
      "cell_type": "code",
      "execution_count": null,
      "id": "ce4aa702-aa67-411e-ab86-06afb3afb21c",
      "metadata": {
        "id": "ce4aa702-aa67-411e-ab86-06afb3afb21c",
        "outputId": "6312086d-7d02-4433-9d7e-99f55e70ce10"
      },
      "outputs": [
        {
          "name": "stdout",
          "output_type": "stream",
          "text": [
            "frequencia_acessos_semanal\n",
            "4    32\n",
            "5    27\n",
            "3    25\n",
            "7    18\n",
            "6    12\n",
            "2     8\n",
            "1     3\n",
            "Name: count, dtype: int64\n",
            " Média de Frequência de Acesso Semanal: 4.44\n",
            " Mediana de Frequência de Acesso Semanal: 4.0\n",
            " Quartil 25%:  3.0 (25% da base acessou até 3.0 vezes na semana)\n",
            " Quartil 50%:  4.0 (50% da base acessou até 4.0 vezes na semana)\n",
            " Quartil 75%:  4.0 (75% da base acessou até 5.0 vezes na semana)\n"
          ]
        }
      ],
      "source": [
        "media_freq = alunos.frequencia_acessos_semanal.mean()\n",
        "mediana_freq = alunos.frequencia_acessos_semanal.median()\n",
        "quartil1 = alunos.frequencia_acessos_semanal.quantile(0.25)\n",
        "quartil2 = alunos.frequencia_acessos_semanal.quantile(0.50)\n",
        "quartil3 = alunos.frequencia_acessos_semanal.quantile(0.75)\n",
        "\n",
        "contagem = alunos.frequencia_acessos_semanal.value_counts()\n",
        "soma = contagem.sum()\n",
        "print(contagem)\n",
        "\n",
        "\n",
        "print(f\" Média de Frequência de Acesso Semanal: {media_freq}\")\n",
        "print(f\" Mediana de Frequência de Acesso Semanal: {mediana_freq}\")\n",
        "print(f\" Quartil 25%:  {quartil1} (25% da base acessou até {quartil1} vezes na semana)\")\n",
        "print(f\" Quartil 50%:  {quartil2} (50% da base acessou até {quartil2} vezes na semana)\")\n",
        "print(f\" Quartil 75%:  {quartil2} (75% da base acessou até {quartil3} vezes na semana)\")"
      ]
    },
    {
      "cell_type": "markdown",
      "id": "65f2d245-80fd-4cb9-a434-25b9579c8727",
      "metadata": {
        "id": "65f2d245-80fd-4cb9-a434-25b9579c8727"
      },
      "source": [
        "- Variáveis Quantitativas Contínuas"
      ]
    },
    {
      "cell_type": "code",
      "execution_count": null,
      "id": "8f40ceed-bae2-4a87-b438-7faaafb92dae",
      "metadata": {
        "id": "8f40ceed-bae2-4a87-b438-7faaafb92dae",
        "outputId": "15ed609f-fc1a-4159-f4e3-44629c968cfd"
      },
      "outputs": [
        {
          "data": {
            "image/png": "[encoded data removed]",
            "text/plain": [
              "<Figure size 640x480 with 1 Axes>"
            ]
          },
          "metadata": {},
          "output_type": "display_data"
        }
      ],
      "source": [
        "_ = plt.hist(alunos.tempo_sessao_minutos)\n",
        "_ = plt.title(\"Histograma de Tempo de Sessão em minutos\")"
      ]
    },
    {
      "cell_type": "markdown",
      "id": "cf0e71ea-9e99-4ef7-8cd6-c7306056d5f0",
      "metadata": {
        "id": "cf0e71ea-9e99-4ef7-8cd6-c7306056d5f0"
      },
      "source": [
        "- Variáveis Qualitativas Nominais"
      ]
    },
    {
      "cell_type": "code",
      "execution_count": null,
      "id": "70be772f-9a9b-432e-9b68-4df2159484a5",
      "metadata": {
        "id": "70be772f-9a9b-432e-9b68-4df2159484a5",
        "outputId": "f17f4b1b-b20c-4923-d3be-d19e75683a38"
      },
      "outputs": [
        {
          "name": "stdout",
          "output_type": "stream",
          "text": [
            "Dispositivo de Acesso  Contagem\n",
            "               Mobile        59\n",
            "              Desktop        50\n",
            "               Tablet        16\n"
          ]
        }
      ],
      "source": [
        "df_contagem = (\n",
        "    alunos['dispositivo_acesso']\n",
        "    .value_counts()\n",
        "    .rename_axis('Dispositivo de Acesso')    # passa o nome ao índice\n",
        "                # transforma em DataFrame com coluna “Contagem”\n",
        "    .reset_index(name='Contagem')\n",
        ")\n",
        "print(df_contagem.to_string(index=False))"
      ]
    },
    {
      "cell_type": "code",
      "execution_count": null,
      "id": "8dc0ef6e-91cd-4feb-b7bb-c0adc052ea53",
      "metadata": {
        "id": "8dc0ef6e-91cd-4feb-b7bb-c0adc052ea53",
        "outputId": "5b7b3f83-c3c0-4485-decd-dc98198cf165"
      },
      "outputs": [
        {
          "data": {
            "text/plain": [
              "regiao_aluno\n",
              "Sudeste         60\n",
              "Nordeste        34\n",
              "Sul             20\n",
              "Centro-Oeste     6\n",
              "Norte            5\n",
              "Name: count, dtype: int64"
            ]
          },
          "execution_count": 29,
          "metadata": {},
          "output_type": "execute_result"
        }
      ],
      "source": [
        "alunos.regiao_aluno.value_counts"
      ]
    },
    {
      "cell_type": "code",
      "execution_count": null,
      "id": "00b6cf26-21e2-4eb7-b7cc-e02da62319ab",
      "metadata": {
        "id": "00b6cf26-21e2-4eb7-b7cc-e02da62319ab",
        "outputId": "e711ae14-5f71-43d4-f4db-767a5c67c61e"
      },
      "outputs": [
        {
          "data": {
            "text/plain": [
              "regiao_aluno\n",
              "Sudeste         0.480\n",
              "Nordeste        0.272\n",
              "Sul             0.160\n",
              "Centro-Oeste    0.048\n",
              "Norte           0.040\n",
              "Name: proportion, dtype: float64"
            ]
          },
          "execution_count": 33,
          "metadata": {},
          "output_type": "execute_result"
        }
      ],
      "source": [
        "alunos.regiao_aluno.value_counts(1)"
      ]
    },
    {
      "cell_type": "code",
      "execution_count": null,
      "id": "a8322676-7e31-48cb-a60f-003e1178af7c",
      "metadata": {
        "id": "a8322676-7e31-48cb-a60f-003e1178af7c",
        "outputId": "7045f95c-6ad8-41d6-82ff-b039e749290f"
      },
      "outputs": [
        {
          "name": "stdout",
          "output_type": "stream",
          "text": [
            "Tipo de Planos  Contagem\n",
            "      Gratuito        53\n",
            "       Premium        36\n",
            "        Básico        36\n"
          ]
        }
      ],
      "source": [
        "df_tipoplano = (\n",
        "    alunos['tipo_plano']\n",
        "    .value_counts()\n",
        "    .rename_axis('Tipo de Planos')\n",
        "    .reset_index(name='Contagem')\n",
        ")\n",
        "print(df_tipoplano.to_string(index=False))"
      ]
    },
    {
      "cell_type": "markdown",
      "id": "f79b2cad-d45a-4bf6-ba26-8b1439b42ef7",
      "metadata": {
        "id": "f79b2cad-d45a-4bf6-ba26-8b1439b42ef7"
      },
      "source": [
        "# 4. Análise Bivariada"
      ]
    },
    {
      "cell_type": "code",
      "execution_count": null,
      "id": "73520a91-5bf1-42b1-911d-8b1d8689dc83",
      "metadata": {
        "id": "73520a91-5bf1-42b1-911d-8b1d8689dc83",
        "outputId": "3a73b183-b271-4fc9-8901-af3869eb3bd5"
      },
      "outputs": [
        {
          "data": {
            "image/png": "[encoded data removed]",
            "text/plain": [
              "<Figure size 640x480 with 1 Axes>"
            ]
          },
          "metadata": {},
          "output_type": "display_data"
        }
      ],
      "source": [
        "_ = sns.boxplot(x='tipo_plano',y='dispositivo_acesso', data=alunos)\n"
      ]
    },
    {
      "cell_type": "markdown",
      "id": "2a5b6424-3fe3-4996-8e14-c6784cddaca8",
      "metadata": {
        "id": "2a5b6424-3fe3-4996-8e14-c6784cddaca8"
      },
      "source": [
        "https://www.youtube.com/watch?v=9n9bFWWBkLg"
      ]
    },
    {
      "cell_type": "code",
      "execution_count": null,
      "id": "cb60969c-40e7-4a5c-9c6b-1eed2dd63e96",
      "metadata": {
        "id": "cb60969c-40e7-4a5c-9c6b-1eed2dd63e96"
      },
      "outputs": [],
      "source": []
    },
    {
      "cell_type": "code",
      "execution_count": null,
      "id": "119f6a75-a1af-40f6-81ce-3c0269533b9e",
      "metadata": {
        "id": "119f6a75-a1af-40f6-81ce-3c0269533b9e"
      },
      "outputs": [],
      "source": []
    }
  ],
  "metadata": {
    "kernelspec": {
      "display_name": "Python 3 (ipykernel)",
      "language": "python",
      "name": "python3"
    },
    "language_info": {
      "codemirror_mode": {
        "name": "ipython",
        "version": 3
      },
      "file_extension": ".py",
      "mimetype": "text/x-python",
      "name": "python",
      "nbconvert_exporter": "python",
      "pygments_lexer": "ipython3",
      "version": "3.12.7"
    },
    "colab": {
      "provenance": [],
      "include_colab_link": true
    }
  },
  "nbformat": 4,
  "nbformat_minor": 5
}